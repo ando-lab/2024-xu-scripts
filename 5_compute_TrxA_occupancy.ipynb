{
 "cells": [
  {
   "cell_type": "code",
   "execution_count": 1,
   "id": "3c904201-ee84-4a6d-8b68-d5288c2d32c8",
   "metadata": {
    "tags": []
   },
   "outputs": [],
   "source": [
    "import pickle\n",
    "import mrcfile\n",
    "import numpy as np\n",
    "from matplotlib import pyplot as plt"
   ]
  },
  {
   "cell_type": "code",
   "execution_count": 2,
   "id": "f6df7e8b-33d5-4eb5-962c-1edf2c781481",
   "metadata": {},
   "outputs": [
    {
     "name": "stdout",
     "output_type": "stream",
     "text": [
      "mean intensity for molmap alpha subunit: 0.2752377986907959\n"
     ]
    }
   ],
   "source": [
    "with mrcfile.open('output/other_map_and_masks/vol_000_fit_molmap_alpha_4068.mrc') as mrc:\n",
    "    fit_molmap_alpha = mrc.data\n",
    "with mrcfile.open('output/other_map_and_masks/vol_000_fit_alpha_mask.mrc') as mrc:\n",
    "    alpha_mask = mrc.data\n",
    "alpha_masked = fit_molmap_alpha * alpha_mask\n",
    "alpha_mean = np.mean(alpha_masked[alpha_mask == 1])\n",
    "print(f\"mean intensity for molmap alpha subunit: {alpha_mean}\")"
   ]
  },
  {
   "cell_type": "code",
   "execution_count": 3,
   "id": "eb47f5cc-0757-4fc6-9344-7dd96ebb2f86",
   "metadata": {
    "tags": []
   },
   "outputs": [
    {
     "name": "stdout",
     "output_type": "stream",
     "text": [
      "mean intensity for molmap TrxA: 0.25915706157684326\n"
     ]
    }
   ],
   "source": [
    "with mrcfile.open('output/other_map_and_masks/vol_000_fit_TrxA_molmap_4068.mrc') as mrc:\n",
    "    TrxA_molmap = mrc.data\n",
    "with mrcfile.open('output/other_map_and_masks/vol_000_fit_TrxA_chain_C_mask.mrc') as mrc:\n",
    "    TrxA_mask_C = mrc.data\n",
    "with mrcfile.open('output/other_map_and_masks/vol_000_fit_TrxA_chain_A_mask.mrc') as mrc:\n",
    "    TrxA_mask_A = mrc.data\n",
    "TrxA_masked = TrxA_molmap * TrxA_mask_C\n",
    "TrxA_mean = np.mean(TrxA_masked[TrxA_mask_C == 1])\n",
    "print(f\"mean intensity for molmap TrxA: {TrxA_mean}\")"
   ]
  },
  {
   "cell_type": "code",
   "execution_count": 4,
   "id": "944c07b3-ca07-45b6-8232-4baaffb046f7",
   "metadata": {
    "tags": []
   },
   "outputs": [],
   "source": [
    "with open('output/vol_to_keep.pkl', 'rb') as f:\n",
    "    vol_to_keep = pickle.load(f)"
   ]
  },
  {
   "cell_type": "code",
   "execution_count": 5,
   "id": "d8ad7381-3ca8-40b0-b35e-9d80f51ca3ba",
   "metadata": {
    "tags": []
   },
   "outputs": [
    {
     "name": "stderr",
     "output_type": "stream",
     "text": [
      "/home/dx63/mambaforge/envs/RNR_landscape/lib/python3.9/site-packages/mrcfile/mrcinterpreter.py:216: RuntimeWarning: Unrecognised machine stamp: 0x00 0x00 0x00 0x00\n",
      "  warnings.warn(str(err), RuntimeWarning)\n"
     ]
    }
   ],
   "source": [
    "TrxA_C_occu = []\n",
    "TrxA_A_occu= []\n",
    "\n",
    "for idx in vol_to_keep:\n",
    "    with mrcfile.open(f'../kmeans1000/vol_{str(idx).zfill(3)}.mrc', permissive=True) as mrc:\n",
    "        vol = mrc.data\n",
    "    vol_alpha = (vol * alpha_mask)[alpha_mask == 1]\n",
    "    vol_TrxA_C = (vol * TrxA_mask_C)[TrxA_mask_C == 1]\n",
    "    vol_TrxA_A = (vol * TrxA_mask_A)[TrxA_mask_A == 1]\n",
    "    TrxA_C_occu.append(np.mean(vol_TrxA_C) * alpha_mean / np.mean(vol_alpha) / TrxA_mean)\n",
    "    TrxA_A_occu.append(np.mean(vol_TrxA_A) * alpha_mean / np.mean(vol_alpha) / TrxA_mean)"
   ]
  },
  {
   "cell_type": "code",
   "execution_count": 6,
   "id": "48868c45-fed8-45b3-8ca0-b97004418f6b",
   "metadata": {
    "tags": []
   },
   "outputs": [
    {
     "data": {
      "image/png": "[encoded data removed]",
      "text/plain": [
       "<Figure size 640x480 with 1 Axes>"
      ]
     },
     "metadata": {},
     "output_type": "display_data"
    }
   ],
   "source": [
    "plt.hist(TrxA_A_occu,20, alpha=0.7, label='chain A')\n",
    "plt.hist(TrxA_C_occu,20, alpha=0.7, label='chain C')\n",
    "plt.xlabel('TrxA occupancy')\n",
    "plt.ylabel('count')\n",
    "plt.legend()\n",
    "plt.show()"
   ]
  },
  {
   "cell_type": "code",
   "execution_count": 7,
   "id": "a11bcd69-287b-4ac2-8a83-7982e38952d9",
   "metadata": {},
   "outputs": [],
   "source": [
    "with open('output/turnover_TrxA_A_occu.pkl', 'wb') as f:\n",
    "    pickle.dump(TrxA_A_occu,f)"
   ]
  },
  {
   "cell_type": "code",
   "execution_count": 8,
   "id": "990895f8-c543-4945-b010-e49b64519679",
   "metadata": {
    "tags": []
   },
   "outputs": [],
   "source": [
    "with open('output/turnover_TrxA_C_occu.pkl', 'wb') as f:\n",
    "    pickle.dump(TrxA_C_occu,f)"
   ]
  },
  {
   "cell_type": "code",
   "execution_count": null,
   "id": "d5ca4798-e965-4cdc-8127-8c077aa0bf05",
   "metadata": {},
   "outputs": [],
   "source": []
  }
 ],
 "metadata": {
  "kernelspec": {
   "display_name": "Python 3 (ipykernel)",
   "language": "python",
   "name": "python3"
  },
  "language_info": {
   "codemirror_mode": {
    "name": "ipython",
    "version": 3
   },
   "file_extension": ".py",
   "mimetype": "text/x-python",
   "name": "python",
   "nbconvert_exporter": "python",
   "pygments_lexer": "ipython3",
   "version": "3.9.19"
  }
 },
 "nbformat": 4,
 "nbformat_minor": 5
}
