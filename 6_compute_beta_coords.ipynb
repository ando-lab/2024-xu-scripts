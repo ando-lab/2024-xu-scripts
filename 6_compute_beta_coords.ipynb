{
 "cells": [
  {
   "cell_type": "code",
   "execution_count": 1,
   "id": "0cc7bf65-5539-4fc3-a876-ae08d80b7517",
   "metadata": {
    "tags": []
   },
   "outputs": [],
   "source": [
    "from Bio import PDB\n",
    "import numpy as np\n",
    "from scipy.spatial.transform import Rotation\n",
    "import pickle"
   ]
  },
  {
   "cell_type": "code",
   "execution_count": 2,
   "id": "90205c99-27fb-4f66-a729-464ef32152cb",
   "metadata": {
    "tags": []
   },
   "outputs": [],
   "source": [
    "parser = PDB.PDBParser()"
   ]
  },
  {
   "cell_type": "code",
   "execution_count": 3,
   "id": "3b819e33-be95-49b9-9206-f1896821e9d9",
   "metadata": {
    "tags": []
   },
   "outputs": [],
   "source": [
    "with open('output/vol_to_keep.pkl', 'rb') as f:\n",
    "    vol_to_keep = pickle.load(f)\n",
    "kept_vol = [f'output/fit_pdb/vol_{str(idx).zfill(3)}_fit.pdb' for idx in vol_to_keep]"
   ]
  },
  {
   "cell_type": "code",
   "execution_count": 4,
   "id": "268a4ddc-2b6c-4663-b307-553e02002cc0",
   "metadata": {
    "tags": []
   },
   "outputs": [],
   "source": [
    "additional_vol = []\n",
    "vol_to_analyze = kept_vol + additional_vol"
   ]
  },
  {
   "cell_type": "code",
   "execution_count": 5,
   "id": "c31d5cec-9e69-49cd-bb73-6312e9707af0",
   "metadata": {
    "tags": []
   },
   "outputs": [
    {
     "name": "stdout",
     "output_type": "stream",
     "text": [
      "0 / 862 processed\n",
      "100 / 862 processed\n",
      "200 / 862 processed\n",
      "300 / 862 processed\n",
      "400 / 862 processed\n",
      "500 / 862 processed\n",
      "600 / 862 processed\n",
      "700 / 862 processed\n",
      "800 / 862 processed\n",
      "finished processing\n"
     ]
    }
   ],
   "source": [
    "beta_coords = []\n",
    "beta_coords_quat = []\n",
    "\n",
    "for num_processed, vol in enumerate(vol_to_analyze):\n",
    "    vol_fit = parser.get_structure('vol_fit', vol)\n",
    "    \n",
    "    vol_fit_alpha = PDB.Structure.Structure('vol_fit_alpha')\n",
    "    vol_fit_alpha.add(vol_fit[0]['A'])\n",
    "    vol_fit_alpha.add(vol_fit[0]['C'])\n",
    "    alpha_com = vol_fit_alpha.center_of_mass()\n",
    "    \n",
    "    vol_fit_beta = PDB.Structure.Structure('vol_fit_beta')\n",
    "    vol_fit_beta.add(vol_fit[0]['E'])\n",
    "    vol_fit_beta.add(vol_fit[0]['F'])\n",
    "    beta_com = vol_fit_beta.center_of_mass()\n",
    "    \n",
    "    alpha_A_180_CA = vol_fit[0]['A'][180]['CA'].get_coord()\n",
    "    alpha_C_180_CA = vol_fit[0]['C'][180]['CA'].get_coord()\n",
    "    alpha_A_191_CA = vol_fit[0]['A'][191]['CA'].get_coord()\n",
    "    alpha_C_191_CA = vol_fit[0]['C'][191]['CA'].get_coord()\n",
    "    alpha_180_plane = np.cross(alpha_A_180_CA - alpha_com, alpha_C_180_CA - alpha_com)\n",
    "    alpha_191_plane = np.cross(alpha_A_191_CA - alpha_com, alpha_C_191_CA - alpha_com)\n",
    "    alpha_C2 = np.cross(alpha_180_plane, alpha_191_plane)\n",
    "    alpha_C2 = alpha_C2 / np.linalg.norm(alpha_C2)\n",
    "    \n",
    "    beta_E_111_CA = vol_fit[0]['E'][111]['CA'].get_coord()\n",
    "    beta_F_111_CA = vol_fit[0]['F'][111]['CA'].get_coord()\n",
    "    beta_E_215_CA = vol_fit[0]['E'][215]['CA'].get_coord()\n",
    "    beta_F_215_CA = vol_fit[0]['F'][215]['CA'].get_coord()\n",
    "    beta_111_plane = np.cross(beta_E_111_CA - beta_com, beta_F_111_CA - beta_com)\n",
    "    beta_215_plane = np.cross(beta_E_215_CA - beta_com, beta_F_215_CA - beta_com)\n",
    "    beta_C2 = np.cross(beta_111_plane, beta_215_plane)\n",
    "    beta_C2 = beta_C2 / np.linalg.norm(beta_C2)\n",
    "    \n",
    "    alpha_A_308_CA = vol_fit[0]['A'][308]['CA'].get_coord()\n",
    "    alpha_axis_3 = np.cross(alpha_A_308_CA - alpha_com,alpha_C2)\n",
    "    alpha_axis_3 = alpha_axis_3 / np.linalg.norm(alpha_axis_3)\n",
    "    alpha_axis_1 = np.cross(alpha_C2, alpha_axis_3)\n",
    "    alpha_axis_1 = alpha_axis_1 / np.linalg.norm(alpha_axis_1)\n",
    "    \n",
    "    beta_F_179_CA = vol_fit[0]['F'][179]['CA'].get_coord()\n",
    "    beta_axis_3 = np.cross(beta_F_179_CA - beta_com,beta_C2)\n",
    "    beta_axis_3 = beta_axis_3 / np.linalg.norm(beta_axis_3)\n",
    "    beta_axis_1 = np.cross(beta_C2, beta_axis_3)\n",
    "    beta_axis_1 = beta_axis_1 / np.linalg.norm(beta_axis_1)\n",
    "    \n",
    "    A_mat = np.hstack((alpha_axis_1[:, np.newaxis], alpha_C2[:, np.newaxis], alpha_axis_3[:, np.newaxis]))\n",
    "    B_mat = np.hstack((beta_axis_1[:, np.newaxis], beta_C2[:, np.newaxis], beta_axis_3[:, np.newaxis]))\n",
    "    rot_mat = np.linalg.inv(A_mat) @ B_mat\n",
    "    \n",
    "    r = Rotation.from_matrix(rot_mat)\n",
    "    euler_angles = r.as_euler('xyz', degrees=True)\n",
    "    quat = r.as_quat()\n",
    "    \n",
    "    alpha_A_684_CA = vol_fit[0]['A'][684]['CA'].get_coord()\n",
    "    beta_E_30_CA = vol_fit[0]['E'][30]['CA'].get_coord()\n",
    "    A_684_E_30_vec = beta_E_30_CA - alpha_A_684_CA\n",
    "    alpha_beta_com_vec = beta_com - alpha_com\n",
    "    beta_coords.append(np.hstack((np.linalg.inv(A_mat) @ A_684_E_30_vec, euler_angles)))\n",
    "    beta_coords_quat.append(np.hstack((np.linalg.inv(A_mat) @ alpha_beta_com_vec, quat)))\n",
    "    \n",
    "    if num_processed % 100 == 0: print(f'{num_processed} / {len(vol_to_keep)} processed')\n",
    "    if num_processed == len(vol_to_keep) - 1: print('finished processing')"
   ]
  },
  {
   "cell_type": "code",
   "execution_count": 6,
   "id": "0663a8a6-7bbc-42e3-8b1f-33f80f49a429",
   "metadata": {
    "tags": []
   },
   "outputs": [],
   "source": [
    "beta_coords = np.array(beta_coords)\n",
    "beta_coords_quat = np.array(beta_coords_quat)"
   ]
  },
  {
   "cell_type": "code",
   "execution_count": 7,
   "id": "dd3dc206-cde0-4ac6-9333-9613cf72fa08",
   "metadata": {
    "tags": []
   },
   "outputs": [],
   "source": [
    "# beta coords contains translation between PCET residues and rotation as euler angles\n",
    "with open('output/turnover_beta_coords.pkl', 'wb') as f:\n",
    "    pickle.dump(beta_coords, f)"
   ]
  },
  {
   "cell_type": "code",
   "execution_count": 8,
   "id": "3367484c-77f7-408f-a3ea-8de1f89a49ca",
   "metadata": {},
   "outputs": [],
   "source": [
    "# beta coords quat contains translation between alpha and beta COMs and rotation as quaternions\n",
    "with open('output/turnover_beta_coords_quat.pkl', 'wb') as f:\n",
    "    pickle.dump(beta_coords_quat, f)"
   ]
  },
  {
   "cell_type": "code",
   "execution_count": null,
   "id": "b2df000e-ce39-488f-8ea6-708e991fd5eb",
   "metadata": {},
   "outputs": [],
   "source": []
  }
 ],
 "metadata": {
  "kernelspec": {
   "display_name": "Python 3 (ipykernel)",
   "language": "python",
   "name": "python3"
  },
  "language_info": {
   "codemirror_mode": {
    "name": "ipython",
    "version": 3
   },
   "file_extension": ".py",
   "mimetype": "text/x-python",
   "name": "python",
   "nbconvert_exporter": "python",
   "pygments_lexer": "ipython3",
   "version": "3.9.16"
  }
 },
 "nbformat": 4,
 "nbformat_minor": 5
}
